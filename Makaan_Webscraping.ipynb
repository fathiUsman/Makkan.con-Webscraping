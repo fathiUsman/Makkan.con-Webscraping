{
  "nbformat": 4,
  "nbformat_minor": 0,
  "metadata": {
    "colab": {
      "name": "Makaan-Webscraping.ipynb",
      "provenance": [],
      "authorship_tag": "ABX9TyPvvpoP6pSa7jW+t0BTIOlB",
      "include_colab_link": true
    },
    "kernelspec": {
      "name": "python3",
      "display_name": "Python 3"
    },
    "language_info": {
      "name": "python"
    }
  },
  "cells": [
    {
      "cell_type": "markdown",
      "metadata": {
        "id": "view-in-github",
        "colab_type": "text"
      },
      "source": [
        "<a href=\"https://colab.research.google.com/github/fathiUsman/Makkan.con-Webscraping/blob/main/Makaan_Webscraping.ipynb\" target=\"_parent\"><img src=\"https://colab.research.google.com/assets/colab-badge.svg\" alt=\"Open In Colab\"/></a>"
      ]
    },
    {
      "cell_type": "code",
      "metadata": {
        "id": "FjC5-j_TRUSH"
      },
      "source": [
        "#import all the packages\n",
        "import requests\n",
        "from bs4 import BeautifulSoup\n",
        "import pandas as pd"
      ],
      "execution_count": null,
      "outputs": []
    },
    {
      "cell_type": "code",
      "metadata": {
        "id": "fV9EfHEARfZg"
      },
      "source": [
        "#To get the contents of the specified URL, submit a request using the requests library. \n",
        "#This is the URL of the Makaan.com website containing the details of each properties.\n",
        "\n",
        "url='https://www.makaan.com/hyderabad-residential-property/buy-property-in-hyderabad-city?_=1624911693584'\n",
        "\n",
        "\n",
        "req = requests.get(url,headers = {'Accept-Language': 'en-US,en;q=0.8'})\n",
        "\n",
        "soup=BeautifulSoup(req.text,'html')\n",
        "print(soup.prettify())"
      ],
      "execution_count": null,
      "outputs": []
    },
    {
      "cell_type": "code",
      "metadata": {
        "colab": {
          "base_uri": "https://localhost:8080/",
          "height": 35
        },
        "id": "Ow2mmX7lRfcV",
        "outputId": "1e1d7ecc-33b7-44a5-e0ab-684b683a2216"
      },
      "source": [
        "#find the owner information of the first property\n",
        "soup.find('span',attrs={'class' : 'seller-type'}).text"
      ],
      "execution_count": null,
      "outputs": [
        {
          "output_type": "execute_result",
          "data": {
            "application/vnd.google.colaboratory.intrinsic+json": {
              "type": "string"
            },
            "text/plain": [
              "'BUILDER'"
            ]
          },
          "metadata": {
            "tags": []
          },
          "execution_count": 19
        }
      ]
    },
    {
      "cell_type": "code",
      "metadata": {
        "colab": {
          "base_uri": "https://localhost:8080/",
          "height": 35
        },
        "id": "1_yIhZ72weoU",
        "outputId": "d4dff4b6-acb1-465b-e4df-bdfbcfea3956"
      },
      "source": [
        "#locality information of first property\n",
        "soup.find('span',attrs={'itemprop': 'addressLocality'}).text   "
      ],
      "execution_count": null,
      "outputs": [
        {
          "output_type": "execute_result",
          "data": {
            "application/vnd.google.colaboratory.intrinsic+json": {
              "type": "string"
            },
            "text/plain": [
              "'Manikonda'"
            ]
          },
          "metadata": {
            "tags": []
          },
          "execution_count": 20
        }
      ]
    },
    {
      "cell_type": "code",
      "metadata": {
        "colab": {
          "base_uri": "https://localhost:8080/",
          "height": 35
        },
        "id": "vQ97kvOCRfj1",
        "outputId": "f4d9b6e7-28bc-4844-e19d-6826128f5112"
      },
      "source": [
        "#price of the property\n",
        "soup.find('div',attrs={'data-type' : 'price-link'}).text    "
      ],
      "execution_count": null,
      "outputs": [
        {
          "output_type": "execute_result",
          "data": {
            "application/vnd.google.colaboratory.intrinsic+json": {
              "type": "string"
            },
            "text/plain": [
              "' 1.6 Cr'"
            ]
          },
          "metadata": {
            "tags": []
          },
          "execution_count": 21
        }
      ]
    },
    {
      "cell_type": "code",
      "metadata": {
        "colab": {
          "base_uri": "https://localhost:8080/",
          "height": 35
        },
        "id": "l4G1By5pRfmK",
        "outputId": "90c72818-db75-4446-97fb-75c6f9051ee0"
      },
      "source": [
        "#find the area of the building in sq.feet\n",
        "soup.find('td',attrs={'class': 'size'}).text   "
      ],
      "execution_count": null,
      "outputs": [
        {
          "output_type": "execute_result",
          "data": {
            "application/vnd.google.colaboratory.intrinsic+json": {
              "type": "string"
            },
            "text/plain": [
              "'2810 '"
            ]
          },
          "metadata": {
            "tags": []
          },
          "execution_count": 22
        }
      ]
    },
    {
      "cell_type": "code",
      "metadata": {
        "colab": {
          "base_uri": "https://localhost:8080/",
          "height": 35
        },
        "id": "sYpwOfOWXXW-",
        "outputId": "327e6569-770f-4885-d23e-8aaf693af5ea"
      },
      "source": [
        "#find the rate per sq feet\n",
        "soup.find('td',attrs={'class' : 'lbl rate'}).text  "
      ],
      "execution_count": null,
      "outputs": [
        {
          "output_type": "execute_result",
          "data": {
            "application/vnd.google.colaboratory.intrinsic+json": {
              "type": "string"
            },
            "text/plain": [
              "'5,699 / sq ft'"
            ]
          },
          "metadata": {
            "tags": []
          },
          "execution_count": 23
        }
      ]
    },
    {
      "cell_type": "code",
      "metadata": {
        "colab": {
          "base_uri": "https://localhost:8080/",
          "height": 35
        },
        "id": "Ygl87K74XXaA",
        "outputId": "030f2cf2-8264-4680-a1d1-4f0139c13532"
      },
      "source": [
        "#no of bhk \n",
        "soup.find('div',attrs={'class' : 'title-line'}).strong.span.text  "
      ],
      "execution_count": null,
      "outputs": [
        {
          "output_type": "execute_result",
          "data": {
            "application/vnd.google.colaboratory.intrinsic+json": {
              "type": "string"
            },
            "text/plain": [
              "'3 '"
            ]
          },
          "metadata": {
            "tags": []
          },
          "execution_count": 24
        }
      ]
    },
    {
      "cell_type": "code",
      "metadata": {
        "colab": {
          "base_uri": "https://localhost:8080/",
          "height": 35
        },
        "id": "KkA5a_xKXXcd",
        "outputId": "8e42a623-347d-46bd-af18-787c5be8931b"
      },
      "source": [
        "#to find the construction type\n",
        "soup.find('td',attrs={'class' : 'val'}).text  "
      ],
      "execution_count": null,
      "outputs": [
        {
          "output_type": "execute_result",
          "data": {
            "application/vnd.google.colaboratory.intrinsic+json": {
              "type": "string"
            },
            "text/plain": [
              "'Under Construction'"
            ]
          },
          "metadata": {
            "tags": []
          },
          "execution_count": 25
        }
      ]
    },
    {
      "cell_type": "code",
      "metadata": {
        "id": "BLJYXcgQXXe2"
      },
      "source": [
        "# import time\n",
        "#To get the contents of the specified URL, submit a request using the requests library.\n",
        "#create empty list \n",
        "\n",
        "import time \n",
        "base_url = 'https://www.makaan.com/hyderabad-residential-property/buy-property-in-hyderabad-city?page='\n",
        "\n",
        "\n",
        "owner_info=[]\n",
        "no_bhk=[]\n",
        "loc_info=[]\n",
        "price_info=[]\n",
        "area_info=[]\n",
        "rate_persqft_info=[]\n",
        "const_info=[]\n",
        "\n",
        "for i in range(1,20):\n",
        "  time.sleep(3)\n",
        "  url=base_url+str(i)+'&_=1624549027897'\n",
        "  req=requests.get(url)\n",
        "  soup=BeautifulSoup(req.text,'html')\n",
        "\n",
        "  o_info=soup.findAll('span',attrs={'class' : 'seller-type'}) \n",
        "  for j in o_info:\n",
        "    owner_info.append(j.text)\n",
        "\n",
        "  b_info=soup.findAll('div',attrs={'class' : 'title-line'})\n",
        "  for k in b_info:\n",
        "    no_bhk.append(k.strong.span.text)\n",
        "\n",
        "  l_info=soup.findAll('span',attrs={'itemprop': 'addressLocality'})\n",
        "  for a in l_info:\n",
        "    loc_info.append(a.text)\n",
        "\n",
        "  p_info=soup.findAll('div',attrs={'data-type' : 'price-link'})\n",
        "  for b in p_info:\n",
        "    price_info.append(b.text)\n",
        "\n",
        "  ar_info=soup.findAll('td',attrs={'class': 'size'})  \n",
        "  for c in ar_info:\n",
        "    area_info.append(c.text)\n",
        "\n",
        "  const=soup.findAll('td',attrs={'class' : 'val'})\n",
        "  for d in const:\n",
        "    const_info.append(d.text) \n",
        "\n",
        "  rate_persqft=soup.findAll('td',attrs={'class' : 'lbl rate'}) \n",
        "  for e in rate_persqft:\n",
        "    rate_persqft_info.append(e.text)\n",
        "\n",
        "  "
      ],
      "execution_count": null,
      "outputs": []
    },
    {
      "cell_type": "code",
      "metadata": {
        "colab": {
          "base_uri": "https://localhost:8080/"
        },
        "id": "RKt186YCZhmR",
        "outputId": "39384631-d9ed-4980-8270-fd0fb865eb40"
      },
      "source": [
        "#length of each items \n",
        "\n",
        "print(len(owner_info))\n",
        "print(len(no_bhk))\n",
        "print(len(loc_info))\n",
        "print(len(price_info))\n",
        "print(len(const_info))\n",
        "print(len(area_info))\n",
        "print(len(rate_persqft_info))\n",
        "\n",
        "\n",
        "\n",
        "\n",
        "\n"
      ],
      "execution_count": null,
      "outputs": [
        {
          "output_type": "stream",
          "text": [
            "380\n",
            "380\n",
            "380\n",
            "380\n",
            "380\n",
            "380\n",
            "380\n"
          ],
          "name": "stdout"
        }
      ]
    },
    {
      "cell_type": "code",
      "metadata": {
        "id": "mJme-tGjRfo1"
      },
      "source": [
        "#merging all datas into a single frame and final data set will be displayed\n",
        "data=pd.DataFrame({'Owner_info' : owner_info,\n",
        "                   'No_BHK' : no_bhk,\n",
        "                   'Locality_info' : loc_info,\n",
        "                   'Price_info' : price_info,\n",
        "                   'Construction_info':const_info,\n",
        "                   'Area_info':area_info,\n",
        "                   'Rate_per_sqft': rate_persqft_info\n",
        "                   })\n",
        "data"
      ],
      "execution_count": null,
      "outputs": []
    },
    {
      "cell_type": "code",
      "metadata": {
        "id": "QaHT40AthvR7"
      },
      "source": [
        ""
      ],
      "execution_count": null,
      "outputs": []
    },
    {
      "cell_type": "code",
      "metadata": {
        "colab": {
          "base_uri": "https://localhost:8080/",
          "height": 414
        },
        "id": "IEwDoV-aY_R4",
        "outputId": "5baf327d-e9f2-4868-a0b2-c98ce7ddd807"
      },
      "source": [
        "#Data will be saved into csv file\n",
        "\n",
        "data.to_csv('makaan_data.csv',index=False)\n",
        "data"
      ],
      "execution_count": null,
      "outputs": [
        {
          "output_type": "execute_result",
          "data": {
            "text/html": [
              "<div>\n",
              "<style scoped>\n",
              "    .dataframe tbody tr th:only-of-type {\n",
              "        vertical-align: middle;\n",
              "    }\n",
              "\n",
              "    .dataframe tbody tr th {\n",
              "        vertical-align: top;\n",
              "    }\n",
              "\n",
              "    .dataframe thead th {\n",
              "        text-align: right;\n",
              "    }\n",
              "</style>\n",
              "<table border=\"1\" class=\"dataframe\">\n",
              "  <thead>\n",
              "    <tr style=\"text-align: right;\">\n",
              "      <th></th>\n",
              "      <th>Owner_info</th>\n",
              "      <th>No_BHK</th>\n",
              "      <th>Locality_info</th>\n",
              "      <th>Price_info</th>\n",
              "      <th>Construction_info</th>\n",
              "      <th>Area_info</th>\n",
              "      <th>Rate_per_sqft</th>\n",
              "    </tr>\n",
              "  </thead>\n",
              "  <tbody>\n",
              "    <tr>\n",
              "      <th>0</th>\n",
              "      <td>BUILDER</td>\n",
              "      <td>3</td>\n",
              "      <td>Manikonda</td>\n",
              "      <td>1.6 Cr</td>\n",
              "      <td>Under Construction</td>\n",
              "      <td>2810</td>\n",
              "      <td>5,699 / sq ft</td>\n",
              "    </tr>\n",
              "    <tr>\n",
              "      <th>1</th>\n",
              "      <td>BUILDER</td>\n",
              "      <td>2</td>\n",
              "      <td>Shaikpet</td>\n",
              "      <td>1.43 Cr</td>\n",
              "      <td>Ready to move</td>\n",
              "      <td>1495</td>\n",
              "      <td>9,565 / sq ft</td>\n",
              "    </tr>\n",
              "    <tr>\n",
              "      <th>2</th>\n",
              "      <td>BUILDER</td>\n",
              "      <td>2</td>\n",
              "      <td>Bachupally</td>\n",
              "      <td>56.98 L</td>\n",
              "      <td>Under Construction</td>\n",
              "      <td>1295</td>\n",
              "      <td>4,400 / sq ft</td>\n",
              "    </tr>\n",
              "    <tr>\n",
              "      <th>3</th>\n",
              "      <td>BUILDER</td>\n",
              "      <td>2</td>\n",
              "      <td>Shamshabad</td>\n",
              "      <td>43.6 L</td>\n",
              "      <td>Under Construction</td>\n",
              "      <td>890</td>\n",
              "      <td>4,899 / sq ft</td>\n",
              "    </tr>\n",
              "    <tr>\n",
              "      <th>4</th>\n",
              "      <td>BUILDER</td>\n",
              "      <td>3</td>\n",
              "      <td>Tellapur</td>\n",
              "      <td>65.82 L</td>\n",
              "      <td>Under Construction</td>\n",
              "      <td>1431</td>\n",
              "      <td>4,600 / sq ft</td>\n",
              "    </tr>\n",
              "    <tr>\n",
              "      <th>...</th>\n",
              "      <td>...</td>\n",
              "      <td>...</td>\n",
              "      <td>...</td>\n",
              "      <td>...</td>\n",
              "      <td>...</td>\n",
              "      <td>...</td>\n",
              "      <td>...</td>\n",
              "    </tr>\n",
              "    <tr>\n",
              "      <th>375</th>\n",
              "      <td>OWNER</td>\n",
              "      <td>3</td>\n",
              "      <td>Chandanagar</td>\n",
              "      <td>37 L</td>\n",
              "      <td>Under Construction</td>\n",
              "      <td>1040</td>\n",
              "      <td>3,557 / sq ft</td>\n",
              "    </tr>\n",
              "    <tr>\n",
              "      <th>376</th>\n",
              "      <td>OWNER</td>\n",
              "      <td>3</td>\n",
              "      <td>Chandanagar</td>\n",
              "      <td>44 L</td>\n",
              "      <td>Under Construction</td>\n",
              "      <td>1240</td>\n",
              "      <td>3,548 / sq ft</td>\n",
              "    </tr>\n",
              "    <tr>\n",
              "      <th>377</th>\n",
              "      <td>OWNER</td>\n",
              "      <td>3</td>\n",
              "      <td>Chandanagar</td>\n",
              "      <td>44 L</td>\n",
              "      <td>Under Construction</td>\n",
              "      <td>1240</td>\n",
              "      <td>3,548 / sq ft</td>\n",
              "    </tr>\n",
              "    <tr>\n",
              "      <th>378</th>\n",
              "      <td>OWNER</td>\n",
              "      <td>2</td>\n",
              "      <td>Miyapur</td>\n",
              "      <td>36 L</td>\n",
              "      <td>Under Construction</td>\n",
              "      <td>1020</td>\n",
              "      <td>3,529 / sq ft</td>\n",
              "    </tr>\n",
              "    <tr>\n",
              "      <th>379</th>\n",
              "      <td>OWNER</td>\n",
              "      <td>2</td>\n",
              "      <td>Miyapur</td>\n",
              "      <td>36 L</td>\n",
              "      <td>Under Construction</td>\n",
              "      <td>1020</td>\n",
              "      <td>3,529 / sq ft</td>\n",
              "    </tr>\n",
              "  </tbody>\n",
              "</table>\n",
              "<p>380 rows × 7 columns</p>\n",
              "</div>"
            ],
            "text/plain": [
              "    Owner_info No_BHK  ... Area_info  Rate_per_sqft\n",
              "0      BUILDER     3   ...     2810   5,699 / sq ft\n",
              "1      BUILDER     2   ...     1495   9,565 / sq ft\n",
              "2      BUILDER     2   ...     1295   4,400 / sq ft\n",
              "3      BUILDER     2   ...      890   4,899 / sq ft\n",
              "4      BUILDER     3   ...     1431   4,600 / sq ft\n",
              "..         ...    ...  ...       ...            ...\n",
              "375      OWNER     3   ...     1040   3,557 / sq ft\n",
              "376      OWNER     3   ...     1240   3,548 / sq ft\n",
              "377      OWNER     3   ...     1240   3,548 / sq ft\n",
              "378      OWNER     2   ...     1020   3,529 / sq ft\n",
              "379      OWNER     2   ...     1020   3,529 / sq ft\n",
              "\n",
              "[380 rows x 7 columns]"
            ]
          },
          "metadata": {
            "tags": []
          },
          "execution_count": 42
        }
      ]
    }
  ]
}